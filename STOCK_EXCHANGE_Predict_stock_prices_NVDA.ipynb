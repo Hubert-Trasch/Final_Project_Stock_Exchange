{
 "cells": [
  {
   "cell_type": "code",
   "execution_count": 1,
   "metadata": {
    "id": "vHhL9nLb_q77"
   },
   "outputs": [],
   "source": [
    "import numpy as np\n",
    "import matplotlib.pyplot as plt\n",
    "%matplotlib inline\n",
    "from matplotlib.pylab import rcParams\n",
    "rcParams['figure.figsize']=20,10\n",
    "from sklearn.preprocessing import MinMaxScaler\n",
    "import datetime as dt\n",
    "import pandas_datareader as web\n",
    "import pandas as pd"
   ]
  },
  {
   "cell_type": "code",
   "execution_count": 2,
   "metadata": {
    "id": "Q3pCxx45_q7-"
   },
   "outputs": [],
   "source": [
    "#choose the range of the dates\n",
    "\n",
    "\n",
    "start=dt.datetime(2015,1,1)\n",
    "end=dt.datetime(2021,6,30)"
   ]
  },
  {
   "cell_type": "code",
   "execution_count": 3,
   "metadata": {
    "id": "LEtScDQF_q7_"
   },
   "outputs": [],
   "source": [
    "#choose the company\n",
    "\n",
    "company='MSFT'\n",
    "\n",
    "\n",
    "data=web.DataReader(company, 'yahoo',start,end)"
   ]
  },
  {
   "cell_type": "code",
   "execution_count": 4,
   "metadata": {
    "id": "XrZyhh5__q7_"
   },
   "outputs": [],
   "source": [
    "\n",
    "data1= data.reset_index()\n"
   ]
  },
  {
   "cell_type": "code",
   "execution_count": 5,
   "metadata": {
    "colab": {
     "base_uri": "https://localhost:8080/",
     "height": 419
    },
    "id": "JPeTlHvD_q8A",
    "outputId": "d37a8a62-eda6-4fa7-e406-e3216b2494d5",
    "scrolled": true
   },
   "outputs": [
    {
     "data": {
      "text/html": [
       "<div>\n",
       "<style scoped>\n",
       "    .dataframe tbody tr th:only-of-type {\n",
       "        vertical-align: middle;\n",
       "    }\n",
       "\n",
       "    .dataframe tbody tr th {\n",
       "        vertical-align: top;\n",
       "    }\n",
       "\n",
       "    .dataframe thead th {\n",
       "        text-align: right;\n",
       "    }\n",
       "</style>\n",
       "<table border=\"1\" class=\"dataframe\">\n",
       "  <thead>\n",
       "    <tr style=\"text-align: right;\">\n",
       "      <th></th>\n",
       "      <th>Date</th>\n",
       "      <th>High</th>\n",
       "      <th>Low</th>\n",
       "      <th>Open</th>\n",
       "      <th>Close</th>\n",
       "      <th>Volume</th>\n",
       "      <th>Adj Close</th>\n",
       "    </tr>\n",
       "  </thead>\n",
       "  <tbody>\n",
       "    <tr>\n",
       "      <th>0</th>\n",
       "      <td>2015-01-02</td>\n",
       "      <td>47.419998</td>\n",
       "      <td>46.540001</td>\n",
       "      <td>46.660000</td>\n",
       "      <td>46.759998</td>\n",
       "      <td>27913900.0</td>\n",
       "      <td>41.348206</td>\n",
       "    </tr>\n",
       "    <tr>\n",
       "      <th>1</th>\n",
       "      <td>2015-01-05</td>\n",
       "      <td>46.730000</td>\n",
       "      <td>46.250000</td>\n",
       "      <td>46.369999</td>\n",
       "      <td>46.330002</td>\n",
       "      <td>39673900.0</td>\n",
       "      <td>40.967976</td>\n",
       "    </tr>\n",
       "    <tr>\n",
       "      <th>2</th>\n",
       "      <td>2015-01-06</td>\n",
       "      <td>46.750000</td>\n",
       "      <td>45.540001</td>\n",
       "      <td>46.380001</td>\n",
       "      <td>45.650002</td>\n",
       "      <td>36447900.0</td>\n",
       "      <td>40.366688</td>\n",
       "    </tr>\n",
       "    <tr>\n",
       "      <th>3</th>\n",
       "      <td>2015-01-07</td>\n",
       "      <td>46.459999</td>\n",
       "      <td>45.490002</td>\n",
       "      <td>45.980000</td>\n",
       "      <td>46.230000</td>\n",
       "      <td>29114100.0</td>\n",
       "      <td>40.879539</td>\n",
       "    </tr>\n",
       "    <tr>\n",
       "      <th>4</th>\n",
       "      <td>2015-01-08</td>\n",
       "      <td>47.750000</td>\n",
       "      <td>46.720001</td>\n",
       "      <td>46.750000</td>\n",
       "      <td>47.590000</td>\n",
       "      <td>29645200.0</td>\n",
       "      <td>42.082142</td>\n",
       "    </tr>\n",
       "    <tr>\n",
       "      <th>...</th>\n",
       "      <td>...</td>\n",
       "      <td>...</td>\n",
       "      <td>...</td>\n",
       "      <td>...</td>\n",
       "      <td>...</td>\n",
       "      <td>...</td>\n",
       "      <td>...</td>\n",
       "    </tr>\n",
       "    <tr>\n",
       "      <th>1627</th>\n",
       "      <td>2021-06-21</td>\n",
       "      <td>263.519989</td>\n",
       "      <td>257.920013</td>\n",
       "      <td>259.820007</td>\n",
       "      <td>262.630005</td>\n",
       "      <td>26696100.0</td>\n",
       "      <td>262.630005</td>\n",
       "    </tr>\n",
       "    <tr>\n",
       "      <th>1628</th>\n",
       "      <td>2021-06-22</td>\n",
       "      <td>265.790009</td>\n",
       "      <td>262.399994</td>\n",
       "      <td>262.720001</td>\n",
       "      <td>265.510010</td>\n",
       "      <td>24694100.0</td>\n",
       "      <td>265.510010</td>\n",
       "    </tr>\n",
       "    <tr>\n",
       "      <th>1629</th>\n",
       "      <td>2021-06-23</td>\n",
       "      <td>266.829987</td>\n",
       "      <td>264.429993</td>\n",
       "      <td>265.989990</td>\n",
       "      <td>265.269989</td>\n",
       "      <td>19518700.0</td>\n",
       "      <td>265.269989</td>\n",
       "    </tr>\n",
       "    <tr>\n",
       "      <th>1630</th>\n",
       "      <td>2021-06-24</td>\n",
       "      <td>267.850006</td>\n",
       "      <td>265.470001</td>\n",
       "      <td>266.160004</td>\n",
       "      <td>266.690002</td>\n",
       "      <td>21446900.0</td>\n",
       "      <td>266.690002</td>\n",
       "    </tr>\n",
       "    <tr>\n",
       "      <th>1631</th>\n",
       "      <td>2021-06-25</td>\n",
       "      <td>267.250000</td>\n",
       "      <td>264.760010</td>\n",
       "      <td>266.230011</td>\n",
       "      <td>265.019989</td>\n",
       "      <td>25604200.0</td>\n",
       "      <td>265.019989</td>\n",
       "    </tr>\n",
       "  </tbody>\n",
       "</table>\n",
       "<p>1632 rows × 7 columns</p>\n",
       "</div>"
      ],
      "text/plain": [
       "           Date        High         Low  ...       Close      Volume   Adj Close\n",
       "0    2015-01-02   47.419998   46.540001  ...   46.759998  27913900.0   41.348206\n",
       "1    2015-01-05   46.730000   46.250000  ...   46.330002  39673900.0   40.967976\n",
       "2    2015-01-06   46.750000   45.540001  ...   45.650002  36447900.0   40.366688\n",
       "3    2015-01-07   46.459999   45.490002  ...   46.230000  29114100.0   40.879539\n",
       "4    2015-01-08   47.750000   46.720001  ...   47.590000  29645200.0   42.082142\n",
       "...         ...         ...         ...  ...         ...         ...         ...\n",
       "1627 2021-06-21  263.519989  257.920013  ...  262.630005  26696100.0  262.630005\n",
       "1628 2021-06-22  265.790009  262.399994  ...  265.510010  24694100.0  265.510010\n",
       "1629 2021-06-23  266.829987  264.429993  ...  265.269989  19518700.0  265.269989\n",
       "1630 2021-06-24  267.850006  265.470001  ...  266.690002  21446900.0  266.690002\n",
       "1631 2021-06-25  267.250000  264.760010  ...  265.019989  25604200.0  265.019989\n",
       "\n",
       "[1632 rows x 7 columns]"
      ]
     },
     "execution_count": 5,
     "metadata": {
      "tags": []
     },
     "output_type": "execute_result"
    }
   ],
   "source": [
    "data1"
   ]
  },
  {
   "cell_type": "code",
   "execution_count": 6,
   "metadata": {
    "id": "yp5sT6pu_q8B"
   },
   "outputs": [],
   "source": [
    "data2=data1[['Date','Close']]"
   ]
  },
  {
   "cell_type": "code",
   "execution_count": 7,
   "metadata": {
    "colab": {
     "base_uri": "https://localhost:8080/",
     "height": 419
    },
    "id": "LbtY0YHx_q8C",
    "outputId": "8769497b-86a7-467d-d5b7-cedcf551412e"
   },
   "outputs": [
    {
     "data": {
      "text/html": [
       "<div>\n",
       "<style scoped>\n",
       "    .dataframe tbody tr th:only-of-type {\n",
       "        vertical-align: middle;\n",
       "    }\n",
       "\n",
       "    .dataframe tbody tr th {\n",
       "        vertical-align: top;\n",
       "    }\n",
       "\n",
       "    .dataframe thead th {\n",
       "        text-align: right;\n",
       "    }\n",
       "</style>\n",
       "<table border=\"1\" class=\"dataframe\">\n",
       "  <thead>\n",
       "    <tr style=\"text-align: right;\">\n",
       "      <th></th>\n",
       "      <th>Date</th>\n",
       "      <th>Close</th>\n",
       "    </tr>\n",
       "  </thead>\n",
       "  <tbody>\n",
       "    <tr>\n",
       "      <th>0</th>\n",
       "      <td>2015-01-02</td>\n",
       "      <td>46.759998</td>\n",
       "    </tr>\n",
       "    <tr>\n",
       "      <th>1</th>\n",
       "      <td>2015-01-05</td>\n",
       "      <td>46.330002</td>\n",
       "    </tr>\n",
       "    <tr>\n",
       "      <th>2</th>\n",
       "      <td>2015-01-06</td>\n",
       "      <td>45.650002</td>\n",
       "    </tr>\n",
       "    <tr>\n",
       "      <th>3</th>\n",
       "      <td>2015-01-07</td>\n",
       "      <td>46.230000</td>\n",
       "    </tr>\n",
       "    <tr>\n",
       "      <th>4</th>\n",
       "      <td>2015-01-08</td>\n",
       "      <td>47.590000</td>\n",
       "    </tr>\n",
       "    <tr>\n",
       "      <th>...</th>\n",
       "      <td>...</td>\n",
       "      <td>...</td>\n",
       "    </tr>\n",
       "    <tr>\n",
       "      <th>1627</th>\n",
       "      <td>2021-06-21</td>\n",
       "      <td>262.630005</td>\n",
       "    </tr>\n",
       "    <tr>\n",
       "      <th>1628</th>\n",
       "      <td>2021-06-22</td>\n",
       "      <td>265.510010</td>\n",
       "    </tr>\n",
       "    <tr>\n",
       "      <th>1629</th>\n",
       "      <td>2021-06-23</td>\n",
       "      <td>265.269989</td>\n",
       "    </tr>\n",
       "    <tr>\n",
       "      <th>1630</th>\n",
       "      <td>2021-06-24</td>\n",
       "      <td>266.690002</td>\n",
       "    </tr>\n",
       "    <tr>\n",
       "      <th>1631</th>\n",
       "      <td>2021-06-25</td>\n",
       "      <td>265.019989</td>\n",
       "    </tr>\n",
       "  </tbody>\n",
       "</table>\n",
       "<p>1632 rows × 2 columns</p>\n",
       "</div>"
      ],
      "text/plain": [
       "           Date       Close\n",
       "0    2015-01-02   46.759998\n",
       "1    2015-01-05   46.330002\n",
       "2    2015-01-06   45.650002\n",
       "3    2015-01-07   46.230000\n",
       "4    2015-01-08   47.590000\n",
       "...         ...         ...\n",
       "1627 2021-06-21  262.630005\n",
       "1628 2021-06-22  265.510010\n",
       "1629 2021-06-23  265.269989\n",
       "1630 2021-06-24  266.690002\n",
       "1631 2021-06-25  265.019989\n",
       "\n",
       "[1632 rows x 2 columns]"
      ]
     },
     "execution_count": 7,
     "metadata": {
      "tags": []
     },
     "output_type": "execute_result"
    }
   ],
   "source": [
    "data2"
   ]
  },
  {
   "cell_type": "code",
   "execution_count": 8,
   "metadata": {
    "colab": {
     "base_uri": "https://localhost:8080/",
     "height": 500
    },
    "id": "uy1jmC9m_q8D",
    "outputId": "a1764ce0-414d-4ddf-fa8c-6a61d6c2e090"
   },
   "outputs": [
    {
     "data": {
      "text/plain": [
       "[<matplotlib.lines.Line2D at 0x7f0285d98cd0>]"
      ]
     },
     "execution_count": 8,
     "metadata": {
      "tags": []
     },
     "output_type": "execute_result"
    },
    {
     "data": {
      "image/png": "[encoded data removed]",
      "text/plain": [
       "<Figure size 1152x576 with 1 Axes>"
      ]
     },
     "metadata": {
      "needs_background": "light",
      "tags": []
     },
     "output_type": "display_data"
    }
   ],
   "source": [
    "plt.figure(figsize=(16,8))\n",
    "plt.plot(data['Close'],label='xxxxxxx')"
   ]
  },
  {
   "cell_type": "code",
   "execution_count": 9,
   "metadata": {
    "colab": {
     "base_uri": "https://localhost:8080/",
     "height": 419
    },
    "id": "eXpH5hc6_q8E",
    "outputId": "dbb5dae9-5e0e-48e7-dbde-120997bddefa"
   },
   "outputs": [
    {
     "data": {
      "text/html": [
       "<div>\n",
       "<style scoped>\n",
       "    .dataframe tbody tr th:only-of-type {\n",
       "        vertical-align: middle;\n",
       "    }\n",
       "\n",
       "    .dataframe tbody tr th {\n",
       "        vertical-align: top;\n",
       "    }\n",
       "\n",
       "    .dataframe thead th {\n",
       "        text-align: right;\n",
       "    }\n",
       "</style>\n",
       "<table border=\"1\" class=\"dataframe\">\n",
       "  <thead>\n",
       "    <tr style=\"text-align: right;\">\n",
       "      <th></th>\n",
       "      <th>Date</th>\n",
       "      <th>Close</th>\n",
       "    </tr>\n",
       "  </thead>\n",
       "  <tbody>\n",
       "    <tr>\n",
       "      <th>0</th>\n",
       "      <td>2015-01-02</td>\n",
       "      <td>46.759998</td>\n",
       "    </tr>\n",
       "    <tr>\n",
       "      <th>1</th>\n",
       "      <td>2015-01-05</td>\n",
       "      <td>46.330002</td>\n",
       "    </tr>\n",
       "    <tr>\n",
       "      <th>2</th>\n",
       "      <td>2015-01-06</td>\n",
       "      <td>45.650002</td>\n",
       "    </tr>\n",
       "    <tr>\n",
       "      <th>3</th>\n",
       "      <td>2015-01-07</td>\n",
       "      <td>46.230000</td>\n",
       "    </tr>\n",
       "    <tr>\n",
       "      <th>4</th>\n",
       "      <td>2015-01-08</td>\n",
       "      <td>47.590000</td>\n",
       "    </tr>\n",
       "    <tr>\n",
       "      <th>...</th>\n",
       "      <td>...</td>\n",
       "      <td>...</td>\n",
       "    </tr>\n",
       "    <tr>\n",
       "      <th>1506</th>\n",
       "      <td>2020-12-24</td>\n",
       "      <td>222.750000</td>\n",
       "    </tr>\n",
       "    <tr>\n",
       "      <th>1507</th>\n",
       "      <td>2020-12-28</td>\n",
       "      <td>224.960007</td>\n",
       "    </tr>\n",
       "    <tr>\n",
       "      <th>1508</th>\n",
       "      <td>2020-12-29</td>\n",
       "      <td>224.149994</td>\n",
       "    </tr>\n",
       "    <tr>\n",
       "      <th>1509</th>\n",
       "      <td>2020-12-30</td>\n",
       "      <td>221.679993</td>\n",
       "    </tr>\n",
       "    <tr>\n",
       "      <th>1510</th>\n",
       "      <td>2020-12-31</td>\n",
       "      <td>222.419998</td>\n",
       "    </tr>\n",
       "  </tbody>\n",
       "</table>\n",
       "<p>1511 rows × 2 columns</p>\n",
       "</div>"
      ],
      "text/plain": [
       "           Date       Close\n",
       "0    2015-01-02   46.759998\n",
       "1    2015-01-05   46.330002\n",
       "2    2015-01-06   45.650002\n",
       "3    2015-01-07   46.230000\n",
       "4    2015-01-08   47.590000\n",
       "...         ...         ...\n",
       "1506 2020-12-24  222.750000\n",
       "1507 2020-12-28  224.960007\n",
       "1508 2020-12-29  224.149994\n",
       "1509 2020-12-30  221.679993\n",
       "1510 2020-12-31  222.419998\n",
       "\n",
       "[1511 rows x 2 columns]"
      ]
     },
     "execution_count": 9,
     "metadata": {
      "tags": []
     },
     "output_type": "execute_result"
    }
   ],
   "source": [
    "data2.head(1511)"
   ]
  },
  {
   "cell_type": "code",
   "execution_count": 10,
   "metadata": {
    "colab": {
     "base_uri": "https://localhost:8080/"
    },
    "id": "jye0plUF_q8F",
    "outputId": "0c2ea175-a143-45c6-b813-ada268177715"
   },
   "outputs": [
    {
     "name": "stderr",
     "output_type": "stream",
     "text": [
      "/usr/local/lib/python3.7/dist-packages/pandas/core/frame.py:4174: SettingWithCopyWarning: \n",
      "A value is trying to be set on a copy of a slice from a DataFrame\n",
      "\n",
      "See the caveats in the documentation: https://pandas.pydata.org/pandas-docs/stable/user_guide/indexing.html#returning-a-view-versus-a-copy\n",
      "  errors=errors,\n"
     ]
    }
   ],
   "source": [
    "\n",
    "final_dataset_num=data2[['Close']]\n",
    "\n",
    "#for testing we need real data - split into train data and test data\n",
    "#try to predict the data of 2021 and compare it with the actual data (valid data)\n",
    "#you need train and valid data for training the model\n",
    "\n",
    "train_data=final_dataset_num[:1511]\n",
    "valid_data=final_dataset_num[1511:]\n",
    "\n",
    "new_dataset=data2\n",
    "new_dataset.drop('Date',axis=1,inplace=True)\n",
    "scaler=MinMaxScaler(feature_range=(0,1))\n",
    "scaled_data=scaler.fit_transform(final_dataset_num)\n",
    "\n",
    "#take the last 60 days and predict the very next day and then the 59 days after\n",
    "prediction_days=50\n",
    "\n",
    "x_train_data,y_train_data=[],[]\n",
    "\n",
    "for i in range(prediction_days,len(train_data)):\n",
    "    x_train_data.append(scaled_data[i-prediction_days:i,0])\n",
    "    y_train_data.append(scaled_data[i,0])\n",
    "    \n",
    "x_train_data,y_train_data=np.array(x_train_data),np.array(y_train_data)\n",
    "\n",
    "\n",
    "x_train_data=np.reshape(x_train_data,(x_train_data.shape[0],x_train_data.shape[1],1))"
   ]
  },
  {
   "cell_type": "code",
   "execution_count": 11,
   "metadata": {
    "colab": {
     "base_uri": "https://localhost:8080/",
     "height": 419
    },
    "id": "cVMTAuWs_q8F",
    "outputId": "69c9a7bd-1cb4-4a5f-b476-83e3b31a24ad"
   },
   "outputs": [
    {
     "data": {
      "text/html": [
       "<div>\n",
       "<style scoped>\n",
       "    .dataframe tbody tr th:only-of-type {\n",
       "        vertical-align: middle;\n",
       "    }\n",
       "\n",
       "    .dataframe tbody tr th {\n",
       "        vertical-align: top;\n",
       "    }\n",
       "\n",
       "    .dataframe thead th {\n",
       "        text-align: right;\n",
       "    }\n",
       "</style>\n",
       "<table border=\"1\" class=\"dataframe\">\n",
       "  <thead>\n",
       "    <tr style=\"text-align: right;\">\n",
       "      <th></th>\n",
       "      <th>Close</th>\n",
       "    </tr>\n",
       "  </thead>\n",
       "  <tbody>\n",
       "    <tr>\n",
       "      <th>1511</th>\n",
       "      <td>217.690002</td>\n",
       "    </tr>\n",
       "    <tr>\n",
       "      <th>1512</th>\n",
       "      <td>217.899994</td>\n",
       "    </tr>\n",
       "    <tr>\n",
       "      <th>1513</th>\n",
       "      <td>212.250000</td>\n",
       "    </tr>\n",
       "    <tr>\n",
       "      <th>1514</th>\n",
       "      <td>218.289993</td>\n",
       "    </tr>\n",
       "    <tr>\n",
       "      <th>1515</th>\n",
       "      <td>219.619995</td>\n",
       "    </tr>\n",
       "    <tr>\n",
       "      <th>...</th>\n",
       "      <td>...</td>\n",
       "    </tr>\n",
       "    <tr>\n",
       "      <th>1627</th>\n",
       "      <td>262.630005</td>\n",
       "    </tr>\n",
       "    <tr>\n",
       "      <th>1628</th>\n",
       "      <td>265.510010</td>\n",
       "    </tr>\n",
       "    <tr>\n",
       "      <th>1629</th>\n",
       "      <td>265.269989</td>\n",
       "    </tr>\n",
       "    <tr>\n",
       "      <th>1630</th>\n",
       "      <td>266.690002</td>\n",
       "    </tr>\n",
       "    <tr>\n",
       "      <th>1631</th>\n",
       "      <td>265.019989</td>\n",
       "    </tr>\n",
       "  </tbody>\n",
       "</table>\n",
       "<p>121 rows × 1 columns</p>\n",
       "</div>"
      ],
      "text/plain": [
       "           Close\n",
       "1511  217.690002\n",
       "1512  217.899994\n",
       "1513  212.250000\n",
       "1514  218.289993\n",
       "1515  219.619995\n",
       "...          ...\n",
       "1627  262.630005\n",
       "1628  265.510010\n",
       "1629  265.269989\n",
       "1630  266.690002\n",
       "1631  265.019989\n",
       "\n",
       "[121 rows x 1 columns]"
      ]
     },
     "execution_count": 11,
     "metadata": {
      "tags": []
     },
     "output_type": "execute_result"
    }
   ],
   "source": [
    "valid_data"
   ]
  },
  {
   "cell_type": "code",
   "execution_count": 12,
   "metadata": {
    "id": "SEwKuyE7_q8G"
   },
   "outputs": [],
   "source": [
    "from keras.models import Sequential\n",
    "from keras.layers import Embedding, Dense, LSTM, Dropout\n"
   ]
  },
  {
   "cell_type": "code",
   "execution_count": 13,
   "metadata": {
    "id": "rXoGGp3g_q8G"
   },
   "outputs": [],
   "source": [
    "import tensorflow as tf\n"
   ]
  },
  {
   "cell_type": "code",
   "execution_count": 14,
   "metadata": {
    "colab": {
     "base_uri": "https://localhost:8080/"
    },
    "id": "uHtJnup0_q8H",
    "outputId": "2ff3a897-ecfc-4e53-c20e-d44fed8a3900"
   },
   "outputs": [
    {
     "name": "stdout",
     "output_type": "stream",
     "text": [
      "1461/1461 - 43s - loss: 0.0018\n"
     ]
    },
    {
     "data": {
      "text/plain": [
       "<keras.callbacks.History at 0x7f024585c350>"
      ]
     },
     "execution_count": 14,
     "metadata": {
      "tags": []
     },
     "output_type": "execute_result"
    }
   ],
   "source": [
    "lstm_model=Sequential()\n",
    "lstm_model.add(LSTM(units=50,return_sequences=True,input_shape=(x_train_data.shape[1],1)))\n",
    "lstm_model.add(LSTM(units=50))\n",
    "lstm_model.add(Dense(1))\n",
    "\n",
    "inputs_data=new_dataset[len(new_dataset)-len(valid_data)-prediction_days:].values\n",
    "inputs_data=inputs_data.reshape(-1,1)\n",
    "inputs_data=scaler.transform(inputs_data)\n",
    "\n",
    "lstm_model.compile(loss='mean_squared_error',optimizer='adam')\n",
    "lstm_model.fit(x_train_data,y_train_data,epochs=1,batch_size=1,verbose=2)\n",
    "\n"
   ]
  },
  {
   "cell_type": "code",
   "execution_count": 15,
   "metadata": {
    "id": "P7OQyzCz_q8H"
   },
   "outputs": [],
   "source": [
    "X_test=[]\n",
    "for i in range(prediction_days,inputs_data.shape[0]):\n",
    "    X_test.append(inputs_data[i-prediction_days:i,0])\n",
    "X_test=np.array(X_test)\n",
    "\n",
    "X_test=np.reshape(X_test,(X_test.shape[0],X_test.shape[1],1))\n",
    "predicted_closing_price=lstm_model.predict(X_test)\n",
    "predicted_closing_price=scaler.inverse_transform(predicted_closing_price)"
   ]
  },
  {
   "cell_type": "code",
   "execution_count": 20,
   "metadata": {
    "colab": {
     "base_uri": "https://localhost:8080/"
    },
    "id": "D33nsx9p_q8H",
    "outputId": "246a2f36-ddbb-4c89-c790-c55f0cafddd0"
   },
   "outputs": [
    {
     "data": {
      "text/plain": [
       "121"
      ]
     },
     "execution_count": 20,
     "metadata": {
      "tags": []
     },
     "output_type": "execute_result"
    }
   ],
   "source": [
    "len(predicted_closing_price)"
   ]
  },
  {
   "cell_type": "code",
   "execution_count": 23,
   "metadata": {
    "colab": {
     "base_uri": "https://localhost:8080/",
     "height": 421
    },
    "id": "Q__0x3vAGuVm",
    "outputId": "4210ba7b-dc1e-41b1-c17e-c5f474b0f21d"
   },
   "outputs": [
    {
     "name": "stderr",
     "output_type": "stream",
     "text": [
      "/usr/local/lib/python3.7/dist-packages/ipykernel_launcher.py:1: SettingWithCopyWarning: \n",
      "A value is trying to be set on a copy of a slice from a DataFrame.\n",
      "Try using .loc[row_indexer,col_indexer] = value instead\n",
      "\n",
      "See the caveats in the documentation: https://pandas.pydata.org/pandas-docs/stable/user_guide/indexing.html#returning-a-view-versus-a-copy\n",
      "  \"\"\"Entry point for launching an IPython kernel.\n"
     ]
    },
    {
     "data": {
      "text/plain": [
       "[<matplotlib.lines.Line2D at 0x7f0241afd9d0>,\n",
       " <matplotlib.lines.Line2D at 0x7f0241afdbd0>]"
      ]
     },
     "execution_count": 23,
     "metadata": {
      "tags": []
     },
     "output_type": "execute_result"
    },
    {
     "data": {
      "image/png": "[encoded data removed]",
      "text/plain": [
       "<Figure size 432x288 with 1 Axes>"
      ]
     },
     "metadata": {
      "needs_background": "light",
      "tags": []
     },
     "output_type": "display_data"
    }
   ],
   "source": [
    "valid_data['Predictions']=predicted_closing_price #orange line\n",
    "plt.plot(train_data[\"Close\"])#green line\n",
    "plt.plot(valid_data[['Close',\"Predictions\"]])\n",
    "\n",
    "#the y axis are the rows not the year"
   ]
  },
  {
   "cell_type": "code",
   "execution_count": 18,
   "metadata": {
    "id": "w9jvRrDCKuHZ"
   },
   "outputs": [],
   "source": [
    "mean_square_error=((valid_data['Close']-valid_data['Predictions'])**2)/len(valid_data)\n"
   ]
  },
  {
   "cell_type": "code",
   "execution_count": 4,
   "metadata": {
    "colab": {
     "base_uri": "https://localhost:8080/"
    },
    "id": "eXu70kIERP2x",
    "outputId": "d2e474e8-0f92-4e4e-f4df-62bdbf7d4fc0"
   },
   "outputs": [
    {
     "ename": "NameError",
     "evalue": "name 'mean_square_error' is not defined",
     "output_type": "error",
     "traceback": [
      "\u001b[0;31m---------------------------------------------------------------------------\u001b[0m",
      "\u001b[0;31mNameError\u001b[0m                                 Traceback (most recent call last)",
      "\u001b[0;32m<ipython-input-4-521df96f5360>\u001b[0m in \u001b[0;36m<module>\u001b[0;34m\u001b[0m\n\u001b[0;32m----> 1\u001b[0;31m \u001b[0mmean_square_error\u001b[0m\u001b[0;34m\u001b[0m\u001b[0;34m\u001b[0m\u001b[0m\n\u001b[0m",
      "\u001b[0;31mNameError\u001b[0m: name 'mean_square_error' is not defined"
     ]
    }
   ],
   "source": [
    "mean_square_error\n"
   ]
  },
  {
   "cell_type": "code",
   "execution_count": 3,
   "metadata": {
    "id": "Ztb3yperM4qp"
   },
   "outputs": [
    {
     "ename": "NameError",
     "evalue": "name 'mean_square_error' is not defined",
     "output_type": "error",
     "traceback": [
      "\u001b[0;31m---------------------------------------------------------------------------\u001b[0m",
      "\u001b[0;31mNameError\u001b[0m                                 Traceback (most recent call last)",
      "\u001b[0;32m<ipython-input-3-b94331c955e4>\u001b[0m in \u001b[0;36m<module>\u001b[0;34m\u001b[0m\n\u001b[0;32m----> 1\u001b[0;31m \u001b[0mmean_square_error\u001b[0m\u001b[0;34m.\u001b[0m\u001b[0mto_csv\u001b[0m\u001b[0;34m(\u001b[0m\u001b[0;34m'predicition_MSFT'\u001b[0m\u001b[0;34m)\u001b[0m\u001b[0;34m\u001b[0m\u001b[0;34m\u001b[0m\u001b[0m\n\u001b[0m",
      "\u001b[0;31mNameError\u001b[0m: name 'mean_square_error' is not defined"
     ]
    }
   ],
   "source": [
    "\n",
    "mean_square_error.to_csv('predicition_MSFT')"
   ]
  },
  {
   "cell_type": "code",
   "execution_count": null,
   "metadata": {},
   "outputs": [],
   "source": []
  }
 ],
 "metadata": {
  "colab": {
   "collapsed_sections": [],
   "name": "STOCK_EXCHANGE_Predict_stock_prices24_06_2021.ipynb",
   "provenance": []
  },
  "kernelspec": {
   "display_name": "Python 3",
   "language": "python",
   "name": "python3"
  },
  "language_info": {
   "codemirror_mode": {
    "name": "ipython",
    "version": 3
   },
   "file_extension": ".py",
   "mimetype": "text/x-python",
   "name": "python",
   "nbconvert_exporter": "python",
   "pygments_lexer": "ipython3",
   "version": "3.8.5"
  }
 },
 "nbformat": 4,
 "nbformat_minor": 1
}
